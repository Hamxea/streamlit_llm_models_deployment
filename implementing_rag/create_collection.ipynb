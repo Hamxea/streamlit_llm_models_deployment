{
 "cells": [
  {
   "cell_type": "code",
   "execution_count": 1,
   "metadata": {
    "collapsed": true
   },
   "outputs": [],
   "source": [
    "import sys\n",
    "sys.path.insert(0, \"/Users/hamzaharunamohammed/Desktop/ntnu/PhD/Development/streamlit_llm_models_deployment\")"
   ]
  },
  {
   "cell_type": "code",
   "execution_count": 2,
   "outputs": [],
   "source": [
    "from implementing_rag.rag_chromadb_engine import RagChromaDbEngine\n",
    "import pandas as pd"
   ],
   "metadata": {
    "collapsed": false
   }
  },
  {
   "cell_type": "code",
   "execution_count": 3,
   "outputs": [
    {
     "data": {
      "text/plain": "      Unnamed: 0.1 Unnamed: 0  \\\n0                0        0_0   \n1                1        0_1   \n2                2        0_2   \n3                3        0_3   \n4                4        0_4   \n...            ...        ...   \n6365          6365      131_4   \n6366          6366      131_5   \n6367          6367      131_6   \n6368          6368      131_7   \n6369          6369      131_8   \n\n                                               filename  \\\n0     2023_Associations_between_circulating_microRNA...   \n1     2023_Associations_between_circulating_microRNA...   \n2     2023_Associations_between_circulating_microRNA...   \n3     2023_Associations_between_circulating_microRNA...   \n4     2023_Associations_between_circulating_microRNA...   \n...                                                 ...   \n6365  www.dagensmedisin.no_8ef438508b6da3bdb1584322d...   \n6366  www.dagensmedisin.no_8ef438508b6da3bdb1584322d...   \n6367  www.dagensmedisin.no_8ef438508b6da3bdb1584322d...   \n6368  www.dagensmedisin.no_8ef438508b6da3bdb1584322d...   \n6369  www.dagensmedisin.no_8ef438508b6da3bdb1584322d...   \n\n                                           text_content  index  chunk_index  \\\n0     1\\nVol.:(0123456789) Scientific Reports  |    ...      0            0   \n1     Abbreviations\\nMI  Myocardial infarction\\nmiR/...      0            1   \n2     Circulating microRNAs (miRs) represents promis...      0            2   \n3     Methods\\nStudy design and patients. This post-...      0            3   \n4     Intracoronary imaging. Following successful dr...      0            4   \n...                                                 ...    ...          ...   \n6365  We also wanted to see whether the intensity ha...    131            4   \n6366  This is a very important message for healthcar...    131            5   \n6367  The findings were not significant, but there w...    131            6   \n6368  The fact that the figure in the moderate group...    131            7   \n6369  Power (test strength, journ.anm) of the study ...    131            8   \n\n                                                   text  \n0      between circulating microRNAs and lipid‑rich ...  \n1     Abbreviations MI Myocardial infarction miR/miR...  \n2     Circulating microRNAs (miRs) represents promis...  \n3     and patients. This posthoc study used baseline...  \n4     Intracoronary imaging. Following successful dr...  \n...                                                 ...  \n6365  We also wanted to see whether the intensity ha...  \n6366  This is a very important message for healthcar...  \n6367  The findings were not significant, but there w...  \n6368  The fact that the figure in the moderate group...  \n6369  Power (test strength, journ.anm) of the study ...  \n\n[6370 rows x 7 columns]",
      "text/html": "<div>\n<style scoped>\n    .dataframe tbody tr th:only-of-type {\n        vertical-align: middle;\n    }\n\n    .dataframe tbody tr th {\n        vertical-align: top;\n    }\n\n    .dataframe thead th {\n        text-align: right;\n    }\n</style>\n<table border=\"1\" class=\"dataframe\">\n  <thead>\n    <tr style=\"text-align: right;\">\n      <th></th>\n      <th>Unnamed: 0.1</th>\n      <th>Unnamed: 0</th>\n      <th>filename</th>\n      <th>text_content</th>\n      <th>index</th>\n      <th>chunk_index</th>\n      <th>text</th>\n    </tr>\n  </thead>\n  <tbody>\n    <tr>\n      <th>0</th>\n      <td>0</td>\n      <td>0_0</td>\n      <td>2023_Associations_between_circulating_microRNA...</td>\n      <td>1\\nVol.:(0123456789) Scientific Reports  |    ...</td>\n      <td>0</td>\n      <td>0</td>\n      <td>between circulating microRNAs and lipid‑rich ...</td>\n    </tr>\n    <tr>\n      <th>1</th>\n      <td>1</td>\n      <td>0_1</td>\n      <td>2023_Associations_between_circulating_microRNA...</td>\n      <td>Abbreviations\\nMI  Myocardial infarction\\nmiR/...</td>\n      <td>0</td>\n      <td>1</td>\n      <td>Abbreviations MI Myocardial infarction miR/miR...</td>\n    </tr>\n    <tr>\n      <th>2</th>\n      <td>2</td>\n      <td>0_2</td>\n      <td>2023_Associations_between_circulating_microRNA...</td>\n      <td>Circulating microRNAs (miRs) represents promis...</td>\n      <td>0</td>\n      <td>2</td>\n      <td>Circulating microRNAs (miRs) represents promis...</td>\n    </tr>\n    <tr>\n      <th>3</th>\n      <td>3</td>\n      <td>0_3</td>\n      <td>2023_Associations_between_circulating_microRNA...</td>\n      <td>Methods\\nStudy design and patients. This post-...</td>\n      <td>0</td>\n      <td>3</td>\n      <td>and patients. This posthoc study used baseline...</td>\n    </tr>\n    <tr>\n      <th>4</th>\n      <td>4</td>\n      <td>0_4</td>\n      <td>2023_Associations_between_circulating_microRNA...</td>\n      <td>Intracoronary imaging. Following successful dr...</td>\n      <td>0</td>\n      <td>4</td>\n      <td>Intracoronary imaging. Following successful dr...</td>\n    </tr>\n    <tr>\n      <th>...</th>\n      <td>...</td>\n      <td>...</td>\n      <td>...</td>\n      <td>...</td>\n      <td>...</td>\n      <td>...</td>\n      <td>...</td>\n    </tr>\n    <tr>\n      <th>6365</th>\n      <td>6365</td>\n      <td>131_4</td>\n      <td>www.dagensmedisin.no_8ef438508b6da3bdb1584322d...</td>\n      <td>We also wanted to see whether the intensity ha...</td>\n      <td>131</td>\n      <td>4</td>\n      <td>We also wanted to see whether the intensity ha...</td>\n    </tr>\n    <tr>\n      <th>6366</th>\n      <td>6366</td>\n      <td>131_5</td>\n      <td>www.dagensmedisin.no_8ef438508b6da3bdb1584322d...</td>\n      <td>This is a very important message for healthcar...</td>\n      <td>131</td>\n      <td>5</td>\n      <td>This is a very important message for healthcar...</td>\n    </tr>\n    <tr>\n      <th>6367</th>\n      <td>6367</td>\n      <td>131_6</td>\n      <td>www.dagensmedisin.no_8ef438508b6da3bdb1584322d...</td>\n      <td>The findings were not significant, but there w...</td>\n      <td>131</td>\n      <td>6</td>\n      <td>The findings were not significant, but there w...</td>\n    </tr>\n    <tr>\n      <th>6368</th>\n      <td>6368</td>\n      <td>131_7</td>\n      <td>www.dagensmedisin.no_8ef438508b6da3bdb1584322d...</td>\n      <td>The fact that the figure in the moderate group...</td>\n      <td>131</td>\n      <td>7</td>\n      <td>The fact that the figure in the moderate group...</td>\n    </tr>\n    <tr>\n      <th>6369</th>\n      <td>6369</td>\n      <td>131_8</td>\n      <td>www.dagensmedisin.no_8ef438508b6da3bdb1584322d...</td>\n      <td>Power (test strength, journ.anm) of the study ...</td>\n      <td>131</td>\n      <td>8</td>\n      <td>Power (test strength, journ.anm) of the study ...</td>\n    </tr>\n  </tbody>\n</table>\n<p>6370 rows × 7 columns</p>\n</div>"
     },
     "execution_count": 3,
     "metadata": {},
     "output_type": "execute_result"
    }
   ],
   "source": [
    "df=pd.read_csv('./data/Preprocessed_news_media_and_publication.csv')\n",
    "df"
   ],
   "metadata": {
    "collapsed": false
   }
  },
  {
   "cell_type": "code",
   "execution_count": 4,
   "outputs": [],
   "source": [
    "rag_chromadb_engine = RagChromaDbEngine()"
   ],
   "metadata": {
    "collapsed": false
   }
  },
  {
   "cell_type": "code",
   "execution_count": 5,
   "outputs": [],
   "source": [
    "docs = df['text'].tolist()\n",
    "docs = [str(doc) for doc in docs]\n",
    "ids = [str(x) for x in df.index.tolist()]\n",
    "rag_chromadb_engine.collection.add(\n",
    "    documents=docs,\n",
    "    ids=ids\n",
    ")"
   ],
   "metadata": {
    "collapsed": false
   }
  },
  {
   "cell_type": "code",
   "execution_count": 6,
   "outputs": [
    {
     "name": "stderr",
     "output_type": "stream",
     "text": [
      "/Users/hamzaharunamohammed/miniforge3/envs/langChain/lib/python3.9/site-packages/bitsandbytes/cextension.py:34: UserWarning: The installed version of bitsandbytes was compiled without GPU support. 8-bit optimizers, 8-bit multiplication, and GPU quantization are unavailable.\n",
      "  warn(\"The installed version of bitsandbytes was compiled without GPU support. \"\n"
     ]
    },
    {
     "name": "stdout",
     "output_type": "stream",
     "text": [
      "'NoneType' object has no attribute 'cadam32bit_grad_fp32'\n",
      "huggingface/tokenizers: The current process just got forked, after parallelism has already been used. Disabling parallelism to avoid deadlocks...\n",
      "To disable this warning, you can either:\n",
      "\t- Avoid using `tokenizers` before the fork if possible\n",
      "\t- Explicitly set the environment variable TOKENIZERS_PARALLELISM=(true | false)\n"
     ]
    }
   ],
   "source": [
    "query = 'Motivational interviewing helps stroke patients maintain physical activity?'\n",
    "\n",
    "context = rag_chromadb_engine.generate_context(query=query, n_results=1)"
   ],
   "metadata": {
    "collapsed": false
   }
  },
  {
   "cell_type": "code",
   "execution_count": 7,
   "outputs": [
    {
     "data": {
      "text/plain": "'30 Angell MS, Tiwari S, Løchen ML. Pr evalens og risikofaktorer for selvrapportert atrieflimmer hos menn og kvinnerTromsøundersøkelsen. Hjerteforum 2015;28:36–42. 31 Bønaa KH, Viitanen M. Validity of selfr eported stroke : the Tromso study. Stroke 2000;31:1602–7. 32 W arren JM, Ekelund U, Besson H, et al. Assessment of physical activitya review of methodologies with reference to epidemiological research: a report of the exercise physiology section of the Rehabilitation. ;17:127–39. 33 Shephar d RJ. Limits to the measurement of habitual physical activity by questionnaires. Med 2003;37:discussion 06:197–206'"
     },
     "execution_count": 7,
     "metadata": {},
     "output_type": "execute_result"
    }
   ],
   "source": [
    "context"
   ],
   "metadata": {
    "collapsed": false
   }
  },
  {
   "cell_type": "code",
   "execution_count": 8,
   "outputs": [],
   "source": [
    "system_prompt=\"\"\"\\\n",
    "You are a helpful AI assistant that can answer questions on activity for cerg. Answer based on the context provided. If you cannot find the correct answer, say I don't know. Be concise and just include the response.\n",
    "\"\"\""
   ],
   "metadata": {
    "collapsed": false
   }
  },
  {
   "cell_type": "code",
   "execution_count": 9,
   "outputs": [],
   "source": [
    "user_prompt=f\"\"\"\n",
    "Based on the context:\n",
    "{context}\n",
    "Answer the below query:\n",
    "{query}\n",
    "\"\"\""
   ],
   "metadata": {
    "collapsed": false
   }
  },
  {
   "cell_type": "code",
   "execution_count": 10,
   "outputs": [],
   "source": [
    "URI='https://zczm25uoronb46lc.us-east-1.aws.endpoints.huggingface.cloud'"
   ],
   "metadata": {
    "collapsed": false
   }
  },
  {
   "cell_type": "code",
   "execution_count": 11,
   "outputs": [
    {
     "data": {
      "text/plain": "'Based on the provided context, the answer to the query is:\\n\\nYes, motivational interviewing can help stroke patients maintain physical activity.\\n\\nAccording to the study by Angell et al. (2015), motivational interviewing was found to be effective in increasing physical activity levels in stroke patients. The study found that patients who received motivational interviewing had higher levels of physical activity compared to those who did not receive the intervention.\\n\\nSimilarly, the study by Bønaa et al. (2000) found that self-reported physical activity was higher in stroke patients who received motivational interviewing compared to those who did not.\\n\\nOverall, the evidence suggests that motivational interviewing can be an effective strategy for promoting physical activity in stroke patients.'"
     },
     "execution_count": 11,
     "metadata": {},
     "output_type": "execute_result"
    }
   ],
   "source": [
    "rag_chromadb_engine.chat_completion(URI, system_prompt,user_prompt)"
   ],
   "metadata": {
    "collapsed": false
   }
  },
  {
   "cell_type": "code",
   "execution_count": 11,
   "outputs": [],
   "source": [],
   "metadata": {
    "collapsed": false
   }
  }
 ],
 "metadata": {
  "kernelspec": {
   "display_name": "Python 3",
   "language": "python",
   "name": "python3"
  },
  "language_info": {
   "codemirror_mode": {
    "name": "ipython",
    "version": 2
   },
   "file_extension": ".py",
   "mimetype": "text/x-python",
   "name": "python",
   "nbconvert_exporter": "python",
   "pygments_lexer": "ipython2",
   "version": "2.7.6"
  }
 },
 "nbformat": 4,
 "nbformat_minor": 0
}
